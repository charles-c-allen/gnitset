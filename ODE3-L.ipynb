{
 "cells": [
  {
   "cell_type": "markdown",
   "metadata": {},
   "source": [
    "# ODE3-L, Second Order Differential Equations\n",
    "\n",
    "The Euler method can be used for any first order differential equation.  The only real requirements are an initial value for our variable, and the ability to evaluate the derivative.\n",
    "\n",
    "Although this is a useful technique, most interesting physics equations are second order.  We've already solved several problems using Newton's second law:\n",
    "\n",
    "$$ F = ma = m \\frac{\\mathrm{d}v}{\\mathrm{d}t} = m\\frac{\\mathrm{d}^2x}{\\mathrm{d}t^2} $$\n",
    "\n",
    "which is a first order equation in the velocity $v$.  If we want to find the position $x(t)$ in addition to $v(t)$, we have a second order equation to solve.\n",
    "\n",
    "Fortunately, the technique for solving a second order equation is not much different from solving a first order equation.  Using the example of velocity and position, we will solve for the velocity as we've already learned, and then simply use the fact that $v = \\mathrm{d}x/\\mathrm{d}t$ to solve for $x$ from our knowledge of $v$.  Our Euler method becomes two simultaneous first-order equations:\n",
    "\n",
    "$$ v(t+\\Delta t) \\approx v(t) + \\left(\\frac{\\mathrm{d}v}{\\mathrm{d}t}\\right) \\cdot \\Delta t $$\n",
    "$$ x(t+\\Delta t) \\approx x(t) + v(t) \\cdot \\Delta t $$\n",
    "\n",
    "We now need _two_ initial conditions, $v_0$ and $x_0$.  The original differential equation supplies us with a way to calculate $\\mathrm{d}v/\\mathrm{d}t$.  The relationship $\\mathrm{d}x/\\mathrm{d}t = v(t)$ allows us to complete our calculation.  If it helps to think in terms of \"old\" and \"new\" values for the velocity and position (this corresponds more closely to the way we build our list of values), we can write the above as\n",
    "\n",
    "$$ v_\\text{new} \\approx v_\\text{old} + \\left(\\frac{\\mathrm{d}v}{\\mathrm{d}t}\\right) \\cdot \\Delta t$$\n",
    "$$ x_\\text{new} \\approx x_\\text{old} + \\left(v_\\text{old}\\right) \\cdot \\Delta t $$"
   ]
  },
  {
   "cell_type": "markdown",
   "metadata": {},
   "source": [
    "#### EXAMPLE\n",
    "\n",
    "Find the velocity and position of an object which is sliding along a frictionless horizontal surface, but subject to linear air resistance:\n",
    "$$ F_\\text{lin} = -bv $$\n",
    "The object has a mass of 1.0kg, an initial velocity of 10.0m/s, and a linear drag coefficient $b$ of 1.0kg/s.  Assume the object starts at $x(0) = 0$.  Plot the results from 0 to 3 seconds.\n",
    "\n",
    "\n",
    "#### SOLUTION\n",
    "\n",
    "Newton's second law gives us\n",
    "\n",
    "$$ m\\frac{\\mathrm{d}v}{\\mathrm{d}t} = -bv $$\n",
    "\n",
    "which we want to rewrite slightly as\n",
    "\n",
    "$$ \\frac{\\mathrm{d}v}{\\mathrm{d}t} = -\\,\\frac{b}{m}\\,v $$"
   ]
  },
  {
   "cell_type": "code",
   "execution_count": 7,
   "metadata": {},
   "outputs": [
    {
     "data": {
      "image/png": "[encoded data removed]",
      "text/plain": [
       "<Figure size 432x288 with 1 Axes>"
      ]
     },
     "metadata": {
      "needs_background": "light"
     },
     "output_type": "display_data"
    },
    {
     "data": {
      "image/png": "[encoded data removed]",
      "text/plain": [
       "<Figure size 432x288 with 1 Axes>"
      ]
     },
     "metadata": {
      "needs_background": "light"
     },
     "output_type": "display_data"
    }
   ],
   "source": [
    "### SOLUTION\n",
    "\n",
    "# imports\n",
    "import matplotlib.pyplot as plt\n",
    "\n",
    "# function definitions\n",
    "def dvdt(bm, v):\n",
    "    # bm is b/m, only that combo is relevant\n",
    "    return -bm * v\n",
    "\n",
    "# constant initialization\n",
    "m     = 1.0  # [kg] mass of object\n",
    "v0    = 10.0 # [m/s] initial velocity\n",
    "b     = 1.0  # [??] linear drag coefficient\n",
    "x0    = 0.0  # [m] initial position\n",
    "t_end = 3.0  # [s] time to end calculations\n",
    "dt    = t_end / 25 # [s] cleverly choose dt based on t_end\n",
    "\n",
    "# variable initialization\n",
    "t_list = [0.0] # [s] time values\n",
    "v_list = [v0]  # [m/s] velocity values\n",
    "x_list = [x0]  # [m] position values\n",
    "\n",
    "# Euler method loop\n",
    "while t_list[-1] < t_end:\n",
    "    t = t_list[-1] + dt\n",
    "    t_list.append(t)\n",
    "    \n",
    "    v = v_list[-1] + dt * dvdt(b/m, v_list[-1])\n",
    "    x = x_list[-1] + dt * v_list[-1]\n",
    "    \n",
    "    v_list.append(v)\n",
    "    x_list.append(x)\n",
    "\n",
    "# make separate plots for v(t) and x(t)\n",
    "plt.plot(t_list, v_list, \".\")\n",
    "plt.xlabel(\"time [s]\")\n",
    "plt.ylabel(\"velocity [m/s]\")\n",
    "plt.title(\"Horizontal Velocity with Linear Drag\")\n",
    "plt.show()\n",
    "\n",
    "plt.plot(t_list, x_list, \"*\")\n",
    "plt.xlabel(\"time [s]\")\n",
    "plt.ylabel(\"position [m]\")\n",
    "plt.title(\"Horizontal Position with Linear Drag\")\n",
    "plt.show()"
   ]
  },
  {
   "cell_type": "markdown",
   "metadata": {},
   "source": [
    "Note that the result was essentially instantaneous, and we can see gaps between the individual calculated points.  This generally means that we should reduce `dt` until the points run together."
   ]
  }
 ],
 "metadata": {
  "kernelspec": {
   "display_name": "Python 3",
   "language": "python",
   "name": "python3"
  },
  "language_info": {
   "codemirror_mode": {
    "name": "ipython",
    "version": 3
   },
   "file_extension": ".py",
   "mimetype": "text/x-python",
   "name": "python",
   "nbconvert_exporter": "python",
   "pygments_lexer": "ipython3",
   "version": "3.6.8"
  }
 },
 "nbformat": 4,
 "nbformat_minor": 2
}
